{
 "cells": [
  {
   "cell_type": "markdown",
   "metadata": {},
   "source": [
    "# Ocean Cleanup Analysis and Predictive Models - Team DC20012"
   ]
  },
  {
   "cell_type": "markdown",
   "metadata": {},
   "source": [
    "## Introduction"
   ]
  },
  {
   "cell_type": "markdown",
   "metadata": {},
   "source": [
    " Ocean is one of the most valuable natural resources on Earth, but also the terminal of pollution caused by humans. Since ocean cleanup is costly and time-consuming, it is necessary to take some efficient methods to release the beach pollution."
   ]
  },
  {
   "cell_type": "markdown",
   "metadata": {},
   "source": [
    "## Objective"
   ]
  },
  {
   "cell_type": "markdown",
   "metadata": {},
   "source": [
    "We want to analyze and predict the human resource needed, given trashload and location statistics, to estimate and optimize resource allocation using machine learning algorithms. In this notebook, we perform data preprocessing, exploratory data analysis  as well as build prediction model to predict human resources allocation on unseen data. "
   ]
  },
  {
   "cell_type": "markdown",
   "metadata": {},
   "source": [
    "### Step 1: Import the ocean cleanup dataset and necessary libraries"
   ]
  },
  {
   "cell_type": "code",
   "execution_count": 1,
   "metadata": {},
   "outputs": [
    {
     "name": "stdout",
     "output_type": "stream",
     "text": [
      "Populating the interactive namespace from numpy and matplotlib\n"
     ]
    },
    {
     "data": {
      "text/html": [
       "<div>\n",
       "<style scoped>\n",
       "    .dataframe tbody tr th:only-of-type {\n",
       "        vertical-align: middle;\n",
       "    }\n",
       "\n",
       "    .dataframe tbody tr th {\n",
       "        vertical-align: top;\n",
       "    }\n",
       "\n",
       "    .dataframe thead th {\n",
       "        text-align: right;\n",
       "    }\n",
       "</style>\n",
       "<table border=\"1\" class=\"dataframe\">\n",
       "  <thead>\n",
       "    <tr style=\"text-align: right;\">\n",
       "      <th></th>\n",
       "      <th>Unnamed: 0</th>\n",
       "      <th>Zone</th>\n",
       "      <th>State</th>\n",
       "      <th>Country</th>\n",
       "      <th>GPS</th>\n",
       "      <th>Cleanup Type</th>\n",
       "      <th>Cleanup Date</th>\n",
       "      <th>Group Name</th>\n",
       "      <th>Adults</th>\n",
       "      <th>Children</th>\n",
       "      <th>...</th>\n",
       "      <th>Other Trash (Clean Swell)</th>\n",
       "      <th>Condoms</th>\n",
       "      <th>Diapers</th>\n",
       "      <th>Syringes</th>\n",
       "      <th>Tampons/Tampon Applicators</th>\n",
       "      <th>Personal Hygiene (Clean Swell)</th>\n",
       "      <th>Foam Pieces</th>\n",
       "      <th>Glass Pieces</th>\n",
       "      <th>Plastic Pieces</th>\n",
       "      <th>Total Items Collected</th>\n",
       "    </tr>\n",
       "  </thead>\n",
       "  <tbody>\n",
       "    <tr>\n",
       "      <th>0</th>\n",
       "      <td>1</td>\n",
       "      <td>Cuyahoga County, OH, USA</td>\n",
       "      <td>Ohio, USA</td>\n",
       "      <td>United States</td>\n",
       "      <td>41.49742, -81.56505</td>\n",
       "      <td>Land (beach, shoreline and inland)</td>\n",
       "      <td>2014-12-22</td>\n",
       "      <td>NaN</td>\n",
       "      <td>1</td>\n",
       "      <td>0</td>\n",
       "      <td>...</td>\n",
       "      <td>0</td>\n",
       "      <td>0</td>\n",
       "      <td>0</td>\n",
       "      <td>0</td>\n",
       "      <td>0</td>\n",
       "      <td>0</td>\n",
       "      <td>0</td>\n",
       "      <td>0</td>\n",
       "      <td>0</td>\n",
       "      <td>3</td>\n",
       "    </tr>\n",
       "    <tr>\n",
       "      <th>1</th>\n",
       "      <td>2</td>\n",
       "      <td>Fairfax County, VA, USA</td>\n",
       "      <td>Virginia, USA</td>\n",
       "      <td>United States</td>\n",
       "      <td>38.87456, -77.24428</td>\n",
       "      <td>Land (beach, shoreline and inland)</td>\n",
       "      <td>2014-12-24</td>\n",
       "      <td>NaN</td>\n",
       "      <td>1</td>\n",
       "      <td>0</td>\n",
       "      <td>...</td>\n",
       "      <td>0</td>\n",
       "      <td>0</td>\n",
       "      <td>0</td>\n",
       "      <td>0</td>\n",
       "      <td>0</td>\n",
       "      <td>0</td>\n",
       "      <td>0</td>\n",
       "      <td>0</td>\n",
       "      <td>2</td>\n",
       "      <td>10</td>\n",
       "    </tr>\n",
       "    <tr>\n",
       "      <th>2</th>\n",
       "      <td>3</td>\n",
       "      <td>Washington, DC, USA</td>\n",
       "      <td>District of Columbia, USA</td>\n",
       "      <td>United States</td>\n",
       "      <td>38.90733, -77.04405</td>\n",
       "      <td>Land (beach, shoreline and inland)</td>\n",
       "      <td>2015-02-19</td>\n",
       "      <td>NaN</td>\n",
       "      <td>1</td>\n",
       "      <td>0</td>\n",
       "      <td>...</td>\n",
       "      <td>1</td>\n",
       "      <td>0</td>\n",
       "      <td>0</td>\n",
       "      <td>0</td>\n",
       "      <td>0</td>\n",
       "      <td>0</td>\n",
       "      <td>0</td>\n",
       "      <td>0</td>\n",
       "      <td>0</td>\n",
       "      <td>4</td>\n",
       "    </tr>\n",
       "    <tr>\n",
       "      <th>3</th>\n",
       "      <td>4</td>\n",
       "      <td>Washington, DC, USA</td>\n",
       "      <td>District of Columbia, USA</td>\n",
       "      <td>United States</td>\n",
       "      <td>38.90733, -77.0441</td>\n",
       "      <td>Land (beach, shoreline and inland)</td>\n",
       "      <td>2015-02-19</td>\n",
       "      <td>NaN</td>\n",
       "      <td>1</td>\n",
       "      <td>0</td>\n",
       "      <td>...</td>\n",
       "      <td>0</td>\n",
       "      <td>0</td>\n",
       "      <td>0</td>\n",
       "      <td>0</td>\n",
       "      <td>0</td>\n",
       "      <td>0</td>\n",
       "      <td>0</td>\n",
       "      <td>0</td>\n",
       "      <td>0</td>\n",
       "      <td>14</td>\n",
       "    </tr>\n",
       "    <tr>\n",
       "      <th>4</th>\n",
       "      <td>5</td>\n",
       "      <td>Washington, DC, USA</td>\n",
       "      <td>District of Columbia, USA</td>\n",
       "      <td>United States</td>\n",
       "      <td>38.90728, -77.04411</td>\n",
       "      <td>Land (beach, shoreline and inland)</td>\n",
       "      <td>2015-03-10</td>\n",
       "      <td>NaN</td>\n",
       "      <td>1</td>\n",
       "      <td>0</td>\n",
       "      <td>...</td>\n",
       "      <td>2</td>\n",
       "      <td>0</td>\n",
       "      <td>0</td>\n",
       "      <td>0</td>\n",
       "      <td>0</td>\n",
       "      <td>1</td>\n",
       "      <td>0</td>\n",
       "      <td>0</td>\n",
       "      <td>1</td>\n",
       "      <td>17</td>\n",
       "    </tr>\n",
       "    <tr>\n",
       "      <th>5</th>\n",
       "      <td>6</td>\n",
       "      <td>Washington, DC, USA</td>\n",
       "      <td>District of Columbia, USA</td>\n",
       "      <td>United States</td>\n",
       "      <td>38.90745, -77.04423</td>\n",
       "      <td>Land (beach, shoreline and inland)</td>\n",
       "      <td>2015-03-10</td>\n",
       "      <td>NaN</td>\n",
       "      <td>1</td>\n",
       "      <td>0</td>\n",
       "      <td>...</td>\n",
       "      <td>0</td>\n",
       "      <td>0</td>\n",
       "      <td>0</td>\n",
       "      <td>0</td>\n",
       "      <td>0</td>\n",
       "      <td>0</td>\n",
       "      <td>0</td>\n",
       "      <td>0</td>\n",
       "      <td>1</td>\n",
       "      <td>5</td>\n",
       "    </tr>\n",
       "    <tr>\n",
       "      <th>6</th>\n",
       "      <td>7</td>\n",
       "      <td>Washington, DC, USA</td>\n",
       "      <td>District of Columbia, USA</td>\n",
       "      <td>United States</td>\n",
       "      <td>38.9074, -77.04382</td>\n",
       "      <td>Land (beach, shoreline and inland)</td>\n",
       "      <td>2015-03-18</td>\n",
       "      <td>NaN</td>\n",
       "      <td>1</td>\n",
       "      <td>0</td>\n",
       "      <td>...</td>\n",
       "      <td>0</td>\n",
       "      <td>0</td>\n",
       "      <td>0</td>\n",
       "      <td>0</td>\n",
       "      <td>0</td>\n",
       "      <td>0</td>\n",
       "      <td>0</td>\n",
       "      <td>0</td>\n",
       "      <td>0</td>\n",
       "      <td>8</td>\n",
       "    </tr>\n",
       "    <tr>\n",
       "      <th>7</th>\n",
       "      <td>8</td>\n",
       "      <td>Washington, DC, USA</td>\n",
       "      <td>District of Columbia, USA</td>\n",
       "      <td>United States</td>\n",
       "      <td>38.90756, -77.04415</td>\n",
       "      <td>Land (beach, shoreline and inland)</td>\n",
       "      <td>2015-03-24</td>\n",
       "      <td>NaN</td>\n",
       "      <td>1</td>\n",
       "      <td>0</td>\n",
       "      <td>...</td>\n",
       "      <td>0</td>\n",
       "      <td>0</td>\n",
       "      <td>0</td>\n",
       "      <td>0</td>\n",
       "      <td>0</td>\n",
       "      <td>0</td>\n",
       "      <td>0</td>\n",
       "      <td>0</td>\n",
       "      <td>2</td>\n",
       "      <td>10</td>\n",
       "    </tr>\n",
       "    <tr>\n",
       "      <th>8</th>\n",
       "      <td>9</td>\n",
       "      <td>Washington, DC, USA</td>\n",
       "      <td>District of Columbia, USA</td>\n",
       "      <td>United States</td>\n",
       "      <td>38.90738, -77.04383</td>\n",
       "      <td>Land (beach, shoreline and inland)</td>\n",
       "      <td>2015-03-24</td>\n",
       "      <td>NaN</td>\n",
       "      <td>1</td>\n",
       "      <td>0</td>\n",
       "      <td>...</td>\n",
       "      <td>4</td>\n",
       "      <td>0</td>\n",
       "      <td>0</td>\n",
       "      <td>0</td>\n",
       "      <td>0</td>\n",
       "      <td>1</td>\n",
       "      <td>0</td>\n",
       "      <td>0</td>\n",
       "      <td>0</td>\n",
       "      <td>10</td>\n",
       "    </tr>\n",
       "    <tr>\n",
       "      <th>9</th>\n",
       "      <td>10</td>\n",
       "      <td>Washington, DC, USA</td>\n",
       "      <td>District of Columbia, USA</td>\n",
       "      <td>United States</td>\n",
       "      <td>38.90735, -77.04386</td>\n",
       "      <td>Land (beach, shoreline and inland)</td>\n",
       "      <td>2015-03-24</td>\n",
       "      <td>NaN</td>\n",
       "      <td>1</td>\n",
       "      <td>0</td>\n",
       "      <td>...</td>\n",
       "      <td>1</td>\n",
       "      <td>0</td>\n",
       "      <td>0</td>\n",
       "      <td>0</td>\n",
       "      <td>0</td>\n",
       "      <td>0</td>\n",
       "      <td>0</td>\n",
       "      <td>0</td>\n",
       "      <td>0</td>\n",
       "      <td>10</td>\n",
       "    </tr>\n",
       "  </tbody>\n",
       "</table>\n",
       "<p>10 rows × 61 columns</p>\n",
       "</div>"
      ],
      "text/plain": [
       "   Unnamed: 0                      Zone                      State  \\\n",
       "0           1  Cuyahoga County, OH, USA                  Ohio, USA   \n",
       "1           2   Fairfax County, VA, USA              Virginia, USA   \n",
       "2           3       Washington, DC, USA  District of Columbia, USA   \n",
       "3           4       Washington, DC, USA  District of Columbia, USA   \n",
       "4           5       Washington, DC, USA  District of Columbia, USA   \n",
       "5           6       Washington, DC, USA  District of Columbia, USA   \n",
       "6           7       Washington, DC, USA  District of Columbia, USA   \n",
       "7           8       Washington, DC, USA  District of Columbia, USA   \n",
       "8           9       Washington, DC, USA  District of Columbia, USA   \n",
       "9          10       Washington, DC, USA  District of Columbia, USA   \n",
       "\n",
       "         Country                  GPS                        Cleanup Type  \\\n",
       "0  United States  41.49742, -81.56505  Land (beach, shoreline and inland)   \n",
       "1  United States  38.87456, -77.24428  Land (beach, shoreline and inland)   \n",
       "2  United States  38.90733, -77.04405  Land (beach, shoreline and inland)   \n",
       "3  United States   38.90733, -77.0441  Land (beach, shoreline and inland)   \n",
       "4  United States  38.90728, -77.04411  Land (beach, shoreline and inland)   \n",
       "5  United States  38.90745, -77.04423  Land (beach, shoreline and inland)   \n",
       "6  United States   38.9074, -77.04382  Land (beach, shoreline and inland)   \n",
       "7  United States  38.90756, -77.04415  Land (beach, shoreline and inland)   \n",
       "8  United States  38.90738, -77.04383  Land (beach, shoreline and inland)   \n",
       "9  United States  38.90735, -77.04386  Land (beach, shoreline and inland)   \n",
       "\n",
       "  Cleanup Date Group Name  Adults  Children  ...  Other Trash (Clean Swell)  \\\n",
       "0   2014-12-22        NaN       1         0  ...                          0   \n",
       "1   2014-12-24        NaN       1         0  ...                          0   \n",
       "2   2015-02-19        NaN       1         0  ...                          1   \n",
       "3   2015-02-19        NaN       1         0  ...                          0   \n",
       "4   2015-03-10        NaN       1         0  ...                          2   \n",
       "5   2015-03-10        NaN       1         0  ...                          0   \n",
       "6   2015-03-18        NaN       1         0  ...                          0   \n",
       "7   2015-03-24        NaN       1         0  ...                          0   \n",
       "8   2015-03-24        NaN       1         0  ...                          4   \n",
       "9   2015-03-24        NaN       1         0  ...                          1   \n",
       "\n",
       "   Condoms  Diapers  Syringes  Tampons/Tampon Applicators  \\\n",
       "0        0        0         0                           0   \n",
       "1        0        0         0                           0   \n",
       "2        0        0         0                           0   \n",
       "3        0        0         0                           0   \n",
       "4        0        0         0                           0   \n",
       "5        0        0         0                           0   \n",
       "6        0        0         0                           0   \n",
       "7        0        0         0                           0   \n",
       "8        0        0         0                           0   \n",
       "9        0        0         0                           0   \n",
       "\n",
       "   Personal Hygiene (Clean Swell)  Foam Pieces  Glass Pieces  Plastic Pieces  \\\n",
       "0                               0            0             0               0   \n",
       "1                               0            0             0               2   \n",
       "2                               0            0             0               0   \n",
       "3                               0            0             0               0   \n",
       "4                               1            0             0               1   \n",
       "5                               0            0             0               1   \n",
       "6                               0            0             0               0   \n",
       "7                               0            0             0               2   \n",
       "8                               1            0             0               0   \n",
       "9                               0            0             0               0   \n",
       "\n",
       "   Total Items Collected  \n",
       "0                      3  \n",
       "1                     10  \n",
       "2                      4  \n",
       "3                     14  \n",
       "4                     17  \n",
       "5                      5  \n",
       "6                      8  \n",
       "7                     10  \n",
       "8                     10  \n",
       "9                     10  \n",
       "\n",
       "[10 rows x 61 columns]"
      ]
     },
     "execution_count": 1,
     "metadata": {},
     "output_type": "execute_result"
    }
   ],
   "source": [
    "%matplotlib inline\n",
    "%pylab inline\n",
    "\n",
    "import pandas as pd\n",
    "import numpy as np\n",
    "import matplotlib.pyplot as plt\n",
    "from datetime import datetime\n",
    "\n",
    "ocean =pd.read_csv('Ocean_Dataset.csv', parse_dates= ['Cleanup Date'])\n",
    "#df = pd.read_csv(file, sep = ',', parse_dates= [col],encoding='utf-8-sig', usecols= ['Date', 'ids'],)\n",
    "ocean.head(10)\n"
   ]
  },
  {
   "cell_type": "code",
   "execution_count": 2,
   "metadata": {},
   "outputs": [
    {
     "data": {
      "text/plain": [
       "(35497, 61)"
      ]
     },
     "execution_count": 2,
     "metadata": {},
     "output_type": "execute_result"
    }
   ],
   "source": [
    "ocean.shape"
   ]
  },
  {
   "cell_type": "markdown",
   "metadata": {},
   "source": [
    "### Step 2: Data Preparation"
   ]
  },
  {
   "cell_type": "markdown",
   "metadata": {},
   "source": [
    "In this step, we have split the GPS location into latitude and longitude with respect to every zone/county. Upon splitting up and getting the latitudes and longitudes as separate columns, we have extracted the state name and country name using the \"Area and Census Block API\""
   ]
  },
  {
   "cell_type": "markdown",
   "metadata": {},
   "source": [
    "We perform this step, because there are many empty State and Zone entries which do not have any geographical data associated with them except for the latitude and longitude"
   ]
  },
  {
   "cell_type": "code",
   "execution_count": 3,
   "metadata": {},
   "outputs": [],
   "source": [
    "ocean[['Lat','Long']] = ocean.GPS.str.split(\",\",expand=True,)\n",
    "\n",
    "ocean = ocean.drop([\"GPS\"],axis = 1)\n",
    "df1 = ocean.loc[ocean[\"Zone\"].isna()]\n",
    "index_df1 = df1.index.tolist()"
   ]
  },
  {
   "cell_type": "code",
   "execution_count": 4,
   "metadata": {},
   "outputs": [
    {
     "data": {
      "text/html": [
       "<div>\n",
       "<style scoped>\n",
       "    .dataframe tbody tr th:only-of-type {\n",
       "        vertical-align: middle;\n",
       "    }\n",
       "\n",
       "    .dataframe tbody tr th {\n",
       "        vertical-align: top;\n",
       "    }\n",
       "\n",
       "    .dataframe thead th {\n",
       "        text-align: right;\n",
       "    }\n",
       "</style>\n",
       "<table border=\"1\" class=\"dataframe\">\n",
       "  <thead>\n",
       "    <tr style=\"text-align: right;\">\n",
       "      <th></th>\n",
       "      <th>Unnamed: 0</th>\n",
       "      <th>Zone</th>\n",
       "      <th>State</th>\n",
       "      <th>Country</th>\n",
       "      <th>Cleanup Type</th>\n",
       "      <th>Cleanup Date</th>\n",
       "      <th>Group Name</th>\n",
       "      <th>Adults</th>\n",
       "      <th>Children</th>\n",
       "      <th>People</th>\n",
       "      <th>...</th>\n",
       "      <th>Diapers</th>\n",
       "      <th>Syringes</th>\n",
       "      <th>Tampons/Tampon Applicators</th>\n",
       "      <th>Personal Hygiene (Clean Swell)</th>\n",
       "      <th>Foam Pieces</th>\n",
       "      <th>Glass Pieces</th>\n",
       "      <th>Plastic Pieces</th>\n",
       "      <th>Total Items Collected</th>\n",
       "      <th>Lat</th>\n",
       "      <th>Long</th>\n",
       "    </tr>\n",
       "  </thead>\n",
       "  <tbody>\n",
       "  </tbody>\n",
       "</table>\n",
       "<p>0 rows × 62 columns</p>\n",
       "</div>"
      ],
      "text/plain": [
       "Empty DataFrame\n",
       "Columns: [Unnamed: 0, Zone, State, Country, Cleanup Type, Cleanup Date, Group Name, Adults, Children, People, Pounds, Miles, # of bags, Cigarette Butts, Food Wrappers (candy, chips, etc.), Take Out/Away Containers (Plastic), Take Out/Away Containers (Foam), Bottle Caps (Plastic), Bottle Caps (Metal), Lids (Plastic), Straws, Stirrers, Forks, Knives, Spoons, Beverage Bottles (Plastic), Beverage Bottles (Glass), Beverage Cans, Grocery Bags (Plastic), Other Plastic Bags, Paper Bags, Cups, Plates (Paper), Cups, Plates (Plastic), Cups, Plates (Foam), Fishing Buoys, Pots & Traps, Fishing Net & Pieces, Fishing Line (1 yard/meter = 1 piece), Rope (1 yard/meter = 1 piece), Fishing Gear (Clean Swell), 6-Pack Holders, Other Plastic/Foam Packaging, Other Plastic Bottles (oil, bleach, etc.), Strapping Bands, Tobacco Packaging/Wrap, Other Packaging (Clean Swell), Appliances (refrigerators, washers, etc.), Balloons, Cigar Tips, Cigarette Lighters, Construction Materials, Fireworks, Tires, Toys, Other Trash (Clean Swell), Condoms, Diapers, Syringes, Tampons/Tampon Applicators, Personal Hygiene (Clean Swell), Foam Pieces, Glass Pieces, Plastic Pieces, Total Items Collected, Lat, Long]\n",
       "Index: []\n",
       "\n",
       "[0 rows x 62 columns]"
      ]
     },
     "execution_count": 4,
     "metadata": {},
     "output_type": "execute_result"
    }
   ],
   "source": [
    "ocean.loc[ocean.Long.isna()]"
   ]
  },
  {
   "cell_type": "code",
   "execution_count": 5,
   "metadata": {},
   "outputs": [],
   "source": [
    "import urllib, json, requests\n",
    "\n",
    "zone_list = []\n",
    "state_list = []\n",
    "\n",
    "str2 = \"\"\n",
    "zone = \"\"\n",
    "state = \"\"\n",
    "for i in index_df1:\n",
    "    zone = \"\"\n",
    "    state = \"\"\n",
    "    str2 = \"https://geo.fcc.gov/api/census/area?lat=\"+str(df1[\"Lat\"][i]).replace(\" \",\"\")+\"&lon=\"+str(df1[\"Long\"][i]).replace(\" \",\"\")+\"&format=json\"\n",
    "    with urllib.request.urlopen(str2) as url:\n",
    "        data = json.loads(url.read().decode())\n",
    "        if len(data['results']) != 0:\n",
    "            #print(data['results'][0]['county_name'])\n",
    "            zone_list.append(data['results'][0]['county_name'] + \" County, \" + data['results'][0]['state_code'] + \", USA\")\n",
    "            state_list.append(data['results'][0]['state_name'] + \", USA\")\n",
    "            \n",
    "            \n",
    "        else:\n",
    "            zone_list.append(0)\n",
    "            state_list.append(0)\n",
    "            continue"
   ]
  },
  {
   "cell_type": "code",
   "execution_count": 6,
   "metadata": {},
   "outputs": [
    {
     "name": "stdout",
     "output_type": "stream",
     "text": [
      "41\n"
     ]
    }
   ],
   "source": [
    "count = 0\n",
    "for i in range(len(zone_list)):\n",
    "    if zone_list[i] == 0:\n",
    "        count +=1\n",
    "        \n",
    "print(count)"
   ]
  },
  {
   "cell_type": "code",
   "execution_count": 7,
   "metadata": {},
   "outputs": [
    {
     "name": "stderr",
     "output_type": "stream",
     "text": [
      "/Users/khanhhuyen4523/anaconda3/lib/python3.7/site-packages/ipykernel_launcher.py:1: SettingWithCopyWarning: \n",
      "A value is trying to be set on a copy of a slice from a DataFrame.\n",
      "Try using .loc[row_indexer,col_indexer] = value instead\n",
      "\n",
      "See the caveats in the documentation: http://pandas.pydata.org/pandas-docs/stable/indexing.html#indexing-view-versus-copy\n",
      "  \"\"\"Entry point for launching an IPython kernel.\n",
      "/Users/khanhhuyen4523/anaconda3/lib/python3.7/site-packages/ipykernel_launcher.py:2: SettingWithCopyWarning: \n",
      "A value is trying to be set on a copy of a slice from a DataFrame.\n",
      "Try using .loc[row_indexer,col_indexer] = value instead\n",
      "\n",
      "See the caveats in the documentation: http://pandas.pydata.org/pandas-docs/stable/indexing.html#indexing-view-versus-copy\n",
      "  \n"
     ]
    }
   ],
   "source": [
    "df1['Zone'] = zone_list\n",
    "df1['State'] = state_list"
   ]
  },
  {
   "cell_type": "code",
   "execution_count": 8,
   "metadata": {},
   "outputs": [
    {
     "name": "stderr",
     "output_type": "stream",
     "text": [
      "/Users/khanhhuyen4523/anaconda3/lib/python3.7/site-packages/ipykernel_launcher.py:3: SettingWithCopyWarning: \n",
      "A value is trying to be set on a copy of a slice from a DataFrame\n",
      "\n",
      "See the caveats in the documentation: http://pandas.pydata.org/pandas-docs/stable/indexing.html#indexing-view-versus-copy\n",
      "  This is separate from the ipykernel package so we can avoid doing imports until\n",
      "/Users/khanhhuyen4523/anaconda3/lib/python3.7/site-packages/ipykernel_launcher.py:4: SettingWithCopyWarning: \n",
      "A value is trying to be set on a copy of a slice from a DataFrame\n",
      "\n",
      "See the caveats in the documentation: http://pandas.pydata.org/pandas-docs/stable/indexing.html#indexing-view-versus-copy\n",
      "  after removing the cwd from sys.path.\n"
     ]
    }
   ],
   "source": [
    "count = 0\n",
    "for i in index_df1:\n",
    "    ocean['Zone'][i] = zone_list[count]\n",
    "    ocean['State'][i] = state_list[count]\n",
    "    count = count + 1"
   ]
  },
  {
   "cell_type": "markdown",
   "metadata": {},
   "source": [
    "In the following cell, we run a test to see if there are any more empty State or Country elements left in either of the two columns. "
   ]
  },
  {
   "cell_type": "code",
   "execution_count": 9,
   "metadata": {},
   "outputs": [
    {
     "name": "stdout",
     "output_type": "stream",
     "text": [
      "0\n"
     ]
    }
   ],
   "source": [
    "count = 0\n",
    "for i in range(len(zone_list)):\n",
    "    if ocean['Zone'][i] == 0:\n",
    "        count +=1\n",
    "        \n",
    "print(count)"
   ]
  },
  {
   "cell_type": "markdown",
   "metadata": {},
   "source": [
    "We see that the output of the above cell is 0, which means we have successfully covered all the records in the dataset"
   ]
  },
  {
   "cell_type": "code",
   "execution_count": 10,
   "metadata": {},
   "outputs": [
    {
     "data": {
      "text/plain": [
       "(35497, 62)"
      ]
     },
     "execution_count": 10,
     "metadata": {},
     "output_type": "execute_result"
    }
   ],
   "source": [
    "ocean.shape"
   ]
  },
  {
   "cell_type": "markdown",
   "metadata": {},
   "source": [
    "We convert values from Cleanup Date column from string to timestamp format."
   ]
  },
  {
   "cell_type": "code",
   "execution_count": 11,
   "metadata": {},
   "outputs": [],
   "source": [
    "try:\n",
    "    ocean['Cleanup Date'] = pd.to_datetime(ocean['Cleanup Date'],format='%d/%m/%Y', errors='coerce') \n",
    "except:\n",
    "    ValueError"
   ]
  },
  {
   "cell_type": "markdown",
   "metadata": {},
   "source": [
    "We create three columns year, month, day extracted from the Cleanup Date column for feature engineering."
   ]
  },
  {
   "cell_type": "code",
   "execution_count": 12,
   "metadata": {},
   "outputs": [],
   "source": [
    "ocean['year']=ocean['Cleanup Date'].dt.year \n",
    "ocean['month']=ocean['Cleanup Date'].dt.month \n",
    "ocean['day']=ocean['Cleanup Date'].dt.day "
   ]
  },
  {
   "cell_type": "code",
   "execution_count": 13,
   "metadata": {},
   "outputs": [
    {
     "data": {
      "text/plain": [
       "pandas._libs.tslibs.timestamps.Timestamp"
      ]
     },
     "execution_count": 13,
     "metadata": {},
     "output_type": "execute_result"
    }
   ],
   "source": [
    "type(ocean['Cleanup Date'][0])"
   ]
  },
  {
   "cell_type": "markdown",
   "metadata": {},
   "source": [
    "We create weekend column for feature engineering."
   ]
  },
  {
   "cell_type": "code",
   "execution_count": 14,
   "metadata": {},
   "outputs": [],
   "source": [
    "ocean['day_of_week']=ocean['Cleanup Date'].dt.dayofweek \n",
    "temp = ocean['Cleanup Date']\n",
    "\n",
    "def applyer(row):\n",
    "    if row.dayofweek == 5 or row.dayofweek == 6:\n",
    "        return 1\n",
    "    else:\n",
    "        return 0 \n",
    "temp2 = ocean['Cleanup Date'].apply(applyer) \n",
    "ocean['weekend']=temp2"
   ]
  },
  {
   "cell_type": "code",
   "execution_count": 15,
   "metadata": {},
   "outputs": [
    {
     "data": {
      "text/plain": [
       "Index(['Unnamed: 0', 'Zone', 'State', 'Country', 'Cleanup Type',\n",
       "       'Cleanup Date', 'Group Name', 'Adults', 'Children', 'People', 'Pounds',\n",
       "       'Miles', '# of bags', 'Cigarette Butts',\n",
       "       'Food Wrappers (candy, chips, etc.)',\n",
       "       'Take Out/Away Containers (Plastic)', 'Take Out/Away Containers (Foam)',\n",
       "       'Bottle Caps (Plastic)', 'Bottle Caps (Metal)', 'Lids (Plastic)',\n",
       "       'Straws, Stirrers', 'Forks, Knives, Spoons',\n",
       "       'Beverage Bottles (Plastic)', 'Beverage Bottles (Glass)',\n",
       "       'Beverage Cans', 'Grocery Bags (Plastic)', 'Other Plastic Bags',\n",
       "       'Paper Bags', 'Cups, Plates (Paper)', 'Cups, Plates (Plastic)',\n",
       "       'Cups, Plates (Foam)', 'Fishing Buoys, Pots & Traps',\n",
       "       'Fishing Net & Pieces', 'Fishing Line (1 yard/meter = 1 piece)',\n",
       "       'Rope (1 yard/meter = 1 piece)', 'Fishing Gear (Clean Swell)',\n",
       "       '6-Pack Holders', 'Other Plastic/Foam Packaging',\n",
       "       'Other Plastic Bottles (oil, bleach, etc.)', 'Strapping Bands',\n",
       "       'Tobacco Packaging/Wrap', 'Other Packaging (Clean Swell)',\n",
       "       'Appliances (refrigerators, washers, etc.)', 'Balloons', 'Cigar Tips',\n",
       "       'Cigarette Lighters', 'Construction Materials', 'Fireworks', 'Tires',\n",
       "       'Toys', 'Other Trash (Clean Swell)', 'Condoms', 'Diapers', 'Syringes',\n",
       "       'Tampons/Tampon Applicators', 'Personal Hygiene (Clean Swell)',\n",
       "       'Foam Pieces', 'Glass Pieces', 'Plastic Pieces',\n",
       "       'Total Items Collected', 'Lat', 'Long', 'year', 'month', 'day',\n",
       "       'day_of_week', 'weekend'],\n",
       "      dtype='object')"
      ]
     },
     "execution_count": 15,
     "metadata": {},
     "output_type": "execute_result"
    }
   ],
   "source": [
    "ocean.columns"
   ]
  },
  {
   "cell_type": "markdown",
   "metadata": {},
   "source": [
    "### Step3: Time Series Analysis for Total Items Collected"
   ]
  },
  {
   "cell_type": "code",
   "execution_count": 16,
   "metadata": {
    "scrolled": true
   },
   "outputs": [
    {
     "name": "stderr",
     "output_type": "stream",
     "text": [
      "/Users/khanhhuyen4523/anaconda3/lib/python3.7/site-packages/pandas/plotting/_converter.py:129: FutureWarning: Using an implicitly registered datetime converter for a matplotlib plotting method. The converter was registered by pandas on import. Future versions of pandas will require you to explicitly register matplotlib converters.\n",
      "\n",
      "To register the converters:\n",
      "\t>>> from pandas.plotting import register_matplotlib_converters\n",
      "\t>>> register_matplotlib_converters()\n",
      "  warnings.warn(msg, FutureWarning)\n"
     ]
    },
    {
     "data": {
      "text/plain": [
       "<matplotlib.legend.Legend at 0x11c3c3c50>"
      ]
     },
     "execution_count": 16,
     "metadata": {},
     "output_type": "execute_result"
    },
    {
     "data": {
      "image/png": "[encoded data removed]",
      "text/plain": [
       "<Figure size 1152x576 with 1 Axes>"
      ]
     },
     "metadata": {
      "needs_background": "light"
     },
     "output_type": "display_data"
    }
   ],
   "source": [
    "ocean.index = ocean['Cleanup Date'] # indexing the Datetime to get the time period on the x-axis. \n",
    "ocean=ocean.drop('Unnamed: 0',1) \n",
    "ts = ocean['Total Items Collected'] \n",
    "plt.figure(figsize=(16,8)) \n",
    "plt.plot(ts, label='Total Items Collected') \n",
    "plt.title('Time Series') \n",
    "plt.xlabel(\"Time(year-month)\") \n",
    "plt.ylabel(\"Total Items Collected\") \n",
    "plt.legend(loc='best')"
   ]
  },
  {
   "cell_type": "markdown",
   "metadata": {},
   "source": [
    "We notice that there are data from a very long time ago. We remove irrelevant/wrong date data and only use data within 5 years (from 2015 to 2019) (35304 out of 35497 records)."
   ]
  },
  {
   "cell_type": "code",
   "execution_count": 17,
   "metadata": {},
   "outputs": [],
   "source": [
    "ocean.dropna(subset=['Cleanup Date'], inplace=True)"
   ]
  },
  {
   "cell_type": "code",
   "execution_count": 18,
   "metadata": {},
   "outputs": [
    {
     "data": {
      "text/plain": [
       "0"
      ]
     },
     "execution_count": 18,
     "metadata": {},
     "output_type": "execute_result"
    }
   ],
   "source": [
    "ocean['Cleanup Date'].isnull().sum()"
   ]
  },
  {
   "cell_type": "code",
   "execution_count": 19,
   "metadata": {},
   "outputs": [],
   "source": [
    "ocean = ocean.loc[(ocean['Cleanup Date'] > '31/12/2014' ) & (ocean['Cleanup Date'] < '01/01/2020')]"
   ]
  },
  {
   "cell_type": "code",
   "execution_count": 20,
   "metadata": {},
   "outputs": [],
   "source": [
    "ocean = ocean[(ocean.People != 10000)]\n"
   ]
  },
  {
   "cell_type": "code",
   "execution_count": 21,
   "metadata": {},
   "outputs": [
    {
     "data": {
      "text/plain": [
       "(35304, 66)"
      ]
     },
     "execution_count": 21,
     "metadata": {},
     "output_type": "execute_result"
    }
   ],
   "source": [
    "ocean.shape"
   ]
  },
  {
   "cell_type": "code",
   "execution_count": 22,
   "metadata": {},
   "outputs": [],
   "source": [
    "ocean = ocean.drop_duplicates()"
   ]
  },
  {
   "cell_type": "code",
   "execution_count": 23,
   "metadata": {},
   "outputs": [
    {
     "data": {
      "text/plain": [
       "(35290, 66)"
      ]
     },
     "execution_count": 23,
     "metadata": {},
     "output_type": "execute_result"
    }
   ],
   "source": [
    "ocean.shape"
   ]
  },
  {
   "cell_type": "code",
   "execution_count": 24,
   "metadata": {},
   "outputs": [
    {
     "data": {
      "text/plain": [
       "<matplotlib.legend.Legend at 0x11c265b38>"
      ]
     },
     "execution_count": 24,
     "metadata": {},
     "output_type": "execute_result"
    },
    {
     "data": {
      "image/png": "[encoded data removed]",
      "text/plain": [
       "<Figure size 1152x576 with 1 Axes>"
      ]
     },
     "metadata": {
      "needs_background": "light"
     },
     "output_type": "display_data"
    }
   ],
   "source": [
    "ocean.index = ocean['Cleanup Date'] # indexing the Datetime to get the time period on the x-axis. \n",
    "    \n",
    "ts = ocean['Total Items Collected'] \n",
    "plt.figure(figsize=(16,8)) \n",
    "plt.plot(ts, label='Total Items Collected') \n",
    "plt.title('Time Series') \n",
    "plt.xlabel(\"Time(year-month)\") \n",
    "plt.ylabel(\"Total Items Collected\") \n",
    "plt.legend(loc='best')"
   ]
  },
  {
   "cell_type": "markdown",
   "metadata": {},
   "source": [
    "### Step4: Overview for Beach Cleanup Performance per Year"
   ]
  },
  {
   "cell_type": "code",
   "execution_count": 25,
   "metadata": {},
   "outputs": [
    {
     "data": {
      "text/plain": [
       "<matplotlib.axes._subplots.AxesSubplot at 0x11be8bc88>"
      ]
     },
     "execution_count": 25,
     "metadata": {},
     "output_type": "execute_result"
    },
    {
     "data": {
      "image/png": "[encoded data removed]",
      "text/plain": [
       "<Figure size 432x288 with 1 Axes>"
      ]
     },
     "metadata": {
      "needs_background": "light"
     },
     "output_type": "display_data"
    }
   ],
   "source": [
    "ocean.groupby('year')['Total Items Collected'].sum().plot.bar()"
   ]
  },
  {
   "cell_type": "code",
   "execution_count": 26,
   "metadata": {
    "scrolled": true
   },
   "outputs": [
    {
     "data": {
      "text/plain": [
       "<matplotlib.axes._subplots.AxesSubplot at 0x11e30ea90>"
      ]
     },
     "execution_count": 26,
     "metadata": {},
     "output_type": "execute_result"
    },
    {
     "data": {
      "image/png": "[encoded data removed]",
      "text/plain": [
       "<Figure size 432x288 with 1 Axes>"
      ]
     },
     "metadata": {
      "needs_background": "light"
     },
     "output_type": "display_data"
    }
   ],
   "source": [
    "ocean.groupby('year')['Pounds'].sum().plot.bar()"
   ]
  },
  {
   "cell_type": "code",
   "execution_count": 27,
   "metadata": {},
   "outputs": [
    {
     "data": {
      "text/plain": [
       "0"
      ]
     },
     "execution_count": 27,
     "metadata": {},
     "output_type": "execute_result"
    }
   ],
   "source": [
    "ocean['Zone'].isnull().sum()"
   ]
  },
  {
   "cell_type": "code",
   "execution_count": 28,
   "metadata": {},
   "outputs": [],
   "source": [
    "ocean['State_2'] = ocean.Zone.str[-7:]"
   ]
  },
  {
   "cell_type": "code",
   "execution_count": 29,
   "metadata": {},
   "outputs": [],
   "source": [
    "ocean['State'] = ocean['State'].astype('category')\n",
    "cat_columns = ocean.select_dtypes(['category']).columns\n",
    "ocean[cat_columns] = ocean[cat_columns].apply(lambda x: x.cat.codes)"
   ]
  },
  {
   "cell_type": "code",
   "execution_count": 30,
   "metadata": {},
   "outputs": [
    {
     "data": {
      "text/plain": [
       "57"
      ]
     },
     "execution_count": 30,
     "metadata": {},
     "output_type": "execute_result"
    }
   ],
   "source": [
    "(ocean['People']==0).sum()"
   ]
  },
  {
   "cell_type": "code",
   "execution_count": 31,
   "metadata": {},
   "outputs": [],
   "source": [
    "ocean = ocean[ocean.People != 0]"
   ]
  },
  {
   "cell_type": "code",
   "execution_count": 32,
   "metadata": {},
   "outputs": [
    {
     "data": {
      "text/plain": [
       "0"
      ]
     },
     "execution_count": 32,
     "metadata": {},
     "output_type": "execute_result"
    }
   ],
   "source": [
    "(ocean['People']==0).sum()"
   ]
  },
  {
   "cell_type": "code",
   "execution_count": 33,
   "metadata": {},
   "outputs": [],
   "source": [
    "del ocean['Cleanup Date']"
   ]
  },
  {
   "cell_type": "code",
   "execution_count": 34,
   "metadata": {},
   "outputs": [],
   "source": [
    "ocean = ocean.loc[(ocean['Pounds']/ocean['People'] < 16)]"
   ]
  },
  {
   "cell_type": "code",
   "execution_count": 35,
   "metadata": {},
   "outputs": [],
   "source": [
    "ocean = ocean.reset_index()"
   ]
  },
  {
   "cell_type": "code",
   "execution_count": 36,
   "metadata": {},
   "outputs": [
    {
     "data": {
      "text/plain": [
       "(31546, 67)"
      ]
     },
     "execution_count": 36,
     "metadata": {},
     "output_type": "execute_result"
    }
   ],
   "source": [
    "ocean.shape"
   ]
  },
  {
   "cell_type": "markdown",
   "metadata": {},
   "source": [
    "## Step 5: Model training and evaluation"
   ]
  },
  {
   "cell_type": "markdown",
   "metadata": {},
   "source": [
    "We investigate various approaches: generalized linear models (L1, L2) and Xgboost. The performance of each method will be evaluated by computing the errors (RMSE) between the predicted resources and the ground-truth resources on a held-out dataset. Ultimately, the prediction model can be interpreted as part of a resource recommendation system that will be potentially helpful for environmentalists to optimize human resource recruitment in their campaigns. The best method is Xgboost (RMSE = 83.57), better than the baseline (RMSE =163.47)."
   ]
  },
  {
   "cell_type": "code",
   "execution_count": 37,
   "metadata": {},
   "outputs": [],
   "source": [
    "ocean_normalizing = ocean.iloc[:,9:59]\n",
    "ocean_normalizing.reset_index()\n",
    "ocean_normalizing_columns = ocean_normalizing.columns"
   ]
  },
  {
   "cell_type": "code",
   "execution_count": 38,
   "metadata": {},
   "outputs": [],
   "source": [
    "from sklearn import preprocessing\n",
    "\n",
    "x = ocean_normalizing.values #returns a numpy array\n",
    "min_max_scaler = preprocessing.MinMaxScaler()\n",
    "x_scaled = min_max_scaler.fit_transform(x)\n",
    "ocean_normalized = pd.DataFrame(x_scaled, columns = ocean_normalizing_columns)"
   ]
  },
  {
   "cell_type": "code",
   "execution_count": 39,
   "metadata": {},
   "outputs": [],
   "source": [
    "ocean_normalized['People'] = ocean['People']\n",
    "ocean_normalized['weekend'] = ocean['weekend']\n",
    "ocean_normalized['month'] = ocean['month']"
   ]
  },
  {
   "cell_type": "code",
   "execution_count": 40,
   "metadata": {},
   "outputs": [
    {
     "name": "stdout",
     "output_type": "stream",
     "text": [
      "Collecting package metadata (current_repodata.json): done\n",
      "Solving environment: done\n",
      "\n",
      "# All requested packages already installed.\n",
      "\n"
     ]
    }
   ],
   "source": [
    "!conda install -c anaconda py-xgboost --yes"
   ]
  },
  {
   "cell_type": "code",
   "execution_count": 41,
   "metadata": {},
   "outputs": [
    {
     "name": "stdout",
     "output_type": "stream",
     "text": [
      "linear_regression Training RMSE:  97.39151877768143\n",
      "linear_regression Cross-Validation RMSE : 86.80289738795292\n",
      "ridge_regression Training RMSE:  97.39152709703193\n",
      "ridge_regression Cross-Validation RMSE : 86.71876711627023\n",
      "lasso_regression Training RMSE:  97.39457253125843\n",
      "lasso_regression Cross-Validation RMSE : 86.76911709966538\n",
      "[12:10:08] WARNING: src/objective/regression_obj.cu:152: reg:linear is now deprecated in favor of reg:squarederror.\n"
     ]
    },
    {
     "name": "stderr",
     "output_type": "stream",
     "text": [
      "/Users/khanhhuyen4523/anaconda3/lib/python3.7/site-packages/xgboost/core.py:587: FutureWarning: Series.base is deprecated and will be removed in a future version\n",
      "  if getattr(data, 'base', None) is not None and \\\n",
      "/Users/khanhhuyen4523/anaconda3/lib/python3.7/site-packages/xgboost/core.py:588: FutureWarning: Series.base is deprecated and will be removed in a future version\n",
      "  data.base is not None and isinstance(data, np.ndarray) \\\n"
     ]
    },
    {
     "name": "stdout",
     "output_type": "stream",
     "text": [
      "Xgboost Training RMSE:  42.801894214651995\n",
      "[12:10:24] WARNING: src/objective/regression_obj.cu:152: reg:linear is now deprecated in favor of reg:squarederror.\n"
     ]
    },
    {
     "name": "stderr",
     "output_type": "stream",
     "text": [
      "/Users/khanhhuyen4523/anaconda3/lib/python3.7/site-packages/xgboost/core.py:587: FutureWarning: Series.base is deprecated and will be removed in a future version\n",
      "  if getattr(data, 'base', None) is not None and \\\n",
      "/Users/khanhhuyen4523/anaconda3/lib/python3.7/site-packages/xgboost/core.py:587: FutureWarning: Series.base is deprecated and will be removed in a future version\n",
      "  if getattr(data, 'base', None) is not None and \\\n"
     ]
    },
    {
     "name": "stdout",
     "output_type": "stream",
     "text": [
      "[12:10:39] WARNING: src/objective/regression_obj.cu:152: reg:linear is now deprecated in favor of reg:squarederror.\n"
     ]
    },
    {
     "name": "stderr",
     "output_type": "stream",
     "text": [
      "/Users/khanhhuyen4523/anaconda3/lib/python3.7/site-packages/xgboost/core.py:587: FutureWarning: Series.base is deprecated and will be removed in a future version\n",
      "  if getattr(data, 'base', None) is not None and \\\n"
     ]
    },
    {
     "name": "stdout",
     "output_type": "stream",
     "text": [
      "[12:10:53] WARNING: src/objective/regression_obj.cu:152: reg:linear is now deprecated in favor of reg:squarederror.\n"
     ]
    },
    {
     "name": "stderr",
     "output_type": "stream",
     "text": [
      "/Users/khanhhuyen4523/anaconda3/lib/python3.7/site-packages/xgboost/core.py:587: FutureWarning: Series.base is deprecated and will be removed in a future version\n",
      "  if getattr(data, 'base', None) is not None and \\\n"
     ]
    },
    {
     "name": "stdout",
     "output_type": "stream",
     "text": [
      "[12:11:08] WARNING: src/objective/regression_obj.cu:152: reg:linear is now deprecated in favor of reg:squarederror.\n"
     ]
    },
    {
     "name": "stderr",
     "output_type": "stream",
     "text": [
      "/Users/khanhhuyen4523/anaconda3/lib/python3.7/site-packages/xgboost/core.py:587: FutureWarning: Series.base is deprecated and will be removed in a future version\n",
      "  if getattr(data, 'base', None) is not None and \\\n"
     ]
    },
    {
     "name": "stdout",
     "output_type": "stream",
     "text": [
      "[12:11:23] WARNING: src/objective/regression_obj.cu:152: reg:linear is now deprecated in favor of reg:squarederror.\n"
     ]
    },
    {
     "name": "stderr",
     "output_type": "stream",
     "text": [
      "/Users/khanhhuyen4523/anaconda3/lib/python3.7/site-packages/xgboost/core.py:587: FutureWarning: Series.base is deprecated and will be removed in a future version\n",
      "  if getattr(data, 'base', None) is not None and \\\n"
     ]
    },
    {
     "name": "stdout",
     "output_type": "stream",
     "text": [
      "[12:11:37] WARNING: src/objective/regression_obj.cu:152: reg:linear is now deprecated in favor of reg:squarederror.\n"
     ]
    },
    {
     "name": "stderr",
     "output_type": "stream",
     "text": [
      "/Users/khanhhuyen4523/anaconda3/lib/python3.7/site-packages/xgboost/core.py:587: FutureWarning: Series.base is deprecated and will be removed in a future version\n",
      "  if getattr(data, 'base', None) is not None and \\\n"
     ]
    },
    {
     "name": "stdout",
     "output_type": "stream",
     "text": [
      "[12:11:51] WARNING: src/objective/regression_obj.cu:152: reg:linear is now deprecated in favor of reg:squarederror.\n"
     ]
    },
    {
     "name": "stderr",
     "output_type": "stream",
     "text": [
      "/Users/khanhhuyen4523/anaconda3/lib/python3.7/site-packages/xgboost/core.py:587: FutureWarning: Series.base is deprecated and will be removed in a future version\n",
      "  if getattr(data, 'base', None) is not None and \\\n"
     ]
    },
    {
     "name": "stdout",
     "output_type": "stream",
     "text": [
      "[12:12:05] WARNING: src/objective/regression_obj.cu:152: reg:linear is now deprecated in favor of reg:squarederror.\n"
     ]
    },
    {
     "name": "stderr",
     "output_type": "stream",
     "text": [
      "/Users/khanhhuyen4523/anaconda3/lib/python3.7/site-packages/xgboost/core.py:587: FutureWarning: Series.base is deprecated and will be removed in a future version\n",
      "  if getattr(data, 'base', None) is not None and \\\n"
     ]
    },
    {
     "name": "stdout",
     "output_type": "stream",
     "text": [
      "[12:12:20] WARNING: src/objective/regression_obj.cu:152: reg:linear is now deprecated in favor of reg:squarederror.\n"
     ]
    },
    {
     "name": "stderr",
     "output_type": "stream",
     "text": [
      "/Users/khanhhuyen4523/anaconda3/lib/python3.7/site-packages/xgboost/core.py:587: FutureWarning: Series.base is deprecated and will be removed in a future version\n",
      "  if getattr(data, 'base', None) is not None and \\\n"
     ]
    },
    {
     "name": "stdout",
     "output_type": "stream",
     "text": [
      "[12:12:34] WARNING: src/objective/regression_obj.cu:152: reg:linear is now deprecated in favor of reg:squarederror.\n",
      "Xgboost Cross-Validation RMSE : 83.56967693018632\n",
      "[12:12:48] WARNING: src/objective/regression_obj.cu:152: reg:linear is now deprecated in favor of reg:squarederror.\n"
     ]
    },
    {
     "name": "stderr",
     "output_type": "stream",
     "text": [
      "/Users/khanhhuyen4523/anaconda3/lib/python3.7/site-packages/xgboost/core.py:587: FutureWarning: Series.base is deprecated and will be removed in a future version\n",
      "  if getattr(data, 'base', None) is not None and \\\n",
      "/Users/khanhhuyen4523/anaconda3/lib/python3.7/site-packages/xgboost/core.py:588: FutureWarning: Series.base is deprecated and will be removed in a future version\n",
      "  data.base is not None and isinstance(data, np.ndarray) \\\n"
     ]
    }
   ],
   "source": [
    "train = ocean_normalized[:26622]\n",
    "test = ocean_normalized[26623:]\n",
    "\n",
    "from sklearn.linear_model import LinearRegression\n",
    "from sklearn.linear_model import Ridge\n",
    "from sklearn.linear_model import ElasticNet\n",
    "from sklearn.model_selection import KFold\n",
    "from sklearn.ensemble import RandomForestClassifier\n",
    "from xgboost import XGBRegressor, plot_importance \n",
    "from sklearn.tree import DecisionTreeClassifier, export_graphviz\n",
    "from sklearn.svm import SVC\n",
    "from sklearn import metrics\n",
    "import random \n",
    "random.seed(1234)\n",
    "np.random.seed(1234)\n",
    "\n",
    "def training (data, predictors, outcome, method):\n",
    "    if method == 'linear_regression':\n",
    "        train_model = LinearRegression()\n",
    "    elif method == 'ridge_regression':\n",
    "        train_model = Ridge(alpha=0.001)\n",
    "#         train_model = ElasticNet(alpha=0.05, l1_ratio=0)\n",
    "    elif method == 'lasso_regression':\n",
    "        train_model = ElasticNet(alpha=0.001, l1_ratio=1, normalize=True)\n",
    "    elif method == 'Xgboost':\n",
    "        train_model = XGBRegressor(n_estimators=1000, learning_rate=0.05)\n",
    "        \n",
    "        \n",
    "# Fit the model:\n",
    "    train_model.fit(data[predictors], data[outcome])\n",
    "\n",
    "    # Make predictions on the training set:\n",
    "    predictions = train_model.predict(data[predictors])\n",
    "\n",
    "    # How well the model fits the training data\n",
    "    print(method, 'Training RMSE: ', np.sqrt(metrics.mean_squared_error(data[outcome], predictions)))\n",
    "\n",
    "    #Perform k-fold cross-validation with 10 folds:\n",
    "    kf = KFold(n_splits=10, random_state=None, shuffle=False)\n",
    "    error = []\n",
    "\n",
    "    for train_split, test_split in kf.split(data[predictors]): \n",
    "        \n",
    "        # Filter the training set:\n",
    "        train_predictors = data[predictors].iloc[train_split, :]\n",
    "        \n",
    "        # Filter the target that we are using to train the algorithm:\n",
    "        train_target = data[outcome].iloc[train_split]\n",
    "\n",
    "        # Training the algorithm using the predictors and target:\n",
    "        train_model.fit(train_predictors, train_target)\n",
    "\n",
    "        test_predictors = data[predictors].iloc[test_split, :]\n",
    "        test_target = data[outcome].iloc[test_split]\n",
    "        test_predictions = train_model.predict(test_predictors)\n",
    "\n",
    "        error.append(np.sqrt(metrics.mean_squared_error(test_predictions, test_target)))\n",
    "    # How well the model performs on unseen data (not used in train_model.fit())\n",
    "    print (method, \"Cross-Validation RMSE :\", np.mean(error))\n",
    "\n",
    "    # Fit the model again so that it can be refered outside the function:\n",
    "    train_model.fit(data[predictors],data[outcome])\n",
    "    return train_model\n",
    "    \n",
    "    \n",
    "def testing(data, predictors, model):\n",
    "    return model.predict(data[predictors])\n",
    "\n",
    "outcome_var = 'People'\n",
    "predictor_var = ['Total Items Collected', 'month', 'weekend', 'Pounds', 'Miles', 'Plastic Pieces', 'Foam Pieces', 'Glass Pieces']\n",
    "\n",
    "method = 'linear_regression'\n",
    "train_model = training(train, predictor_var, outcome_var, method)\n",
    "predictions_1 = testing(test, predictor_var, train_model)\n",
    "\n",
    "method = 'ridge_regression'\n",
    "train_model = training(train, predictor_var, outcome_var, method)\n",
    "predictions_2 = testing(test, predictor_var, train_model)\n",
    "\n",
    "method = 'lasso_regression'\n",
    "train_model = training(train, predictor_var, outcome_var, method)\n",
    "predictions_3 = testing(test, predictor_var, train_model)\n",
    "\n",
    "method = 'Xgboost'\n",
    "train_model = training(train, predictor_var, outcome_var, method)\n",
    "predictions_4 = testing(test, predictor_var, train_model)"
   ]
  },
  {
   "cell_type": "markdown",
   "metadata": {},
   "source": [
    "## Step 6: Model Validation"
   ]
  },
  {
   "cell_type": "markdown",
   "metadata": {},
   "source": [
    "Baseline is the RMSE of a basic model predicting by using the average number of people in each record. "
   ]
  },
  {
   "cell_type": "code",
   "execution_count": 42,
   "metadata": {},
   "outputs": [
    {
     "name": "stdout",
     "output_type": "stream",
     "text": [
      "163.4723686045661\n",
      "17.22082038927281\n",
      "31546\n"
     ]
    }
   ],
   "source": [
    "a_mean = ocean_normalized.People.mean()\n",
    "n = ocean_normalized.People.count()\n",
    "err_mean_sq = 0\n",
    "for i in ocean_normalized.People:\n",
    "    err_mean_sq += (i-a_mean)**2/n\n",
    "RMSE_base = np.sqrt(err_mean_sq)\n",
    "print(RMSE_base) \n",
    "print(a_mean)\n",
    "print(n)"
   ]
  },
  {
   "cell_type": "markdown",
   "metadata": {},
   "source": [
    "The plot below compares the actual numbers of people participated in ocean cleanup actitivies in the test set (unseen data) to the predicted numbers of Xgboost methods."
   ]
  },
  {
   "cell_type": "code",
   "execution_count": 43,
   "metadata": {},
   "outputs": [
    {
     "data": {
      "image/png": "[encoded data removed]",
      "text/plain": [
       "<Figure size 1152x576 with 1 Axes>"
      ]
     },
     "metadata": {
      "needs_background": "light"
     },
     "output_type": "display_data"
    }
   ],
   "source": [
    "plt.figure(figsize=(16,8)) \n",
    "\n",
    "t = ocean['Cleanup Date'][26623:]\n",
    "a = ocean['People'][26623:]\n",
    "b = predictions_4\n",
    "\n",
    "ax = subplot(111)\n",
    "ax.scatter(t, a, s=10, c='k', marker=\"s\", label=\"True\")\n",
    "ax.scatter(t, b, s=10, c='c', marker=\"o\", label=\"Predicted\")\n",
    " \n",
    "plt.xlabel(\"Time(year-month)\") \n",
    "plt.ylabel(\"Number of people\") \n",
    "plt.title('Prediction of human resources for ocean cleanup in the US from 10/2017 to 10/2019')\n",
    "plt.legend(loc='best')\n",
    "plt.show()"
   ]
  },
  {
   "cell_type": "code",
   "execution_count": null,
   "metadata": {},
   "outputs": [],
   "source": []
  }
 ],
 "metadata": {
  "kernelspec": {
   "display_name": "Python 3",
   "language": "python",
   "name": "python3"
  },
  "language_info": {
   "codemirror_mode": {
    "name": "ipython",
    "version": 3
   },
   "file_extension": ".py",
   "mimetype": "text/x-python",
   "name": "python",
   "nbconvert_exporter": "python",
   "pygments_lexer": "ipython3",
   "version": "3.7.3"
  }
 },
 "nbformat": 4,
 "nbformat_minor": 4
}
